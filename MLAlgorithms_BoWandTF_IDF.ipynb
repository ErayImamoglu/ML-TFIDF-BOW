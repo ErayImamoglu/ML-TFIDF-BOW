{
  "nbformat": 4,
  "nbformat_minor": 0,
  "metadata": {
    "colab": {
      "provenance": [],
      "authorship_tag": "ABX9TyP6kS/3SqnkWvGUwKWNSVsc",
      "include_colab_link": true
    },
    "kernelspec": {
      "name": "python3",
      "display_name": "Python 3"
    },
    "language_info": {
      "name": "python"
    }
  },
  "cells": [
    {
      "cell_type": "markdown",
      "metadata": {
        "id": "view-in-github",
        "colab_type": "text"
      },
      "source": [
        "<a href=\"https://colab.research.google.com/github/ErayImamoglu/ML-TFIDF-BOW/blob/main/MLAlgorithms_BoWandTF_IDF.ipynb\" target=\"_parent\"><img src=\"https://colab.research.google.com/assets/colab-badge.svg\" alt=\"Open In Colab\"/></a>"
      ]
    },
    {
      "cell_type": "code",
      "execution_count": null,
      "metadata": {
        "colab": {
          "base_uri": "https://localhost:8080/",
          "height": 53
        },
        "id": "XdsfHvbmS7D7",
        "outputId": "2c2384f8-c4a0-4d36-8467-481706fe7e80"
      },
      "outputs": [
        {
          "output_type": "execute_result",
          "data": {
            "text/plain": [
              "'The Consultant shall ensure that his proposed personnel is duly qualified, is able to design all required parts of main design and competently to carry out the tasks assigned in accordance with the scope of the contract.'"
            ],
            "application/vnd.google.colaboratory.intrinsic+json": {
              "type": "string"
            }
          },
          "metadata": {},
          "execution_count": 5
        }
      ],
      "source": [
        "import pandas as pd\n",
        "import numpy as np\n",
        "import os\n",
        "import matplotlib.pyplot as plt\n",
        "from sklearn.model_selection import train_test_split\n",
        "from sklearn.feature_extraction.text import CountVectorizer, TfidfVectorizer\n",
        "from sklearn.svm import SVC\n",
        "from sklearn.naive_bayes import MultinomialNB\n",
        "from sklearn.linear_model import LogisticRegression\n",
        "from sklearn.neural_network import MLPClassifier\n",
        "from sklearn.metrics import accuracy_score\n",
        "\n",
        "df=pd.read_csv(\"/content/train_set_cost_related-_2_.csv\")\n",
        "\n",
        "# Get indices of rows with label 0 and label 1\n",
        "indices_0 = df[df['CostRelated'] == 0].index\n",
        "indices_1 = df[df['CostRelated'] == 1].index\n",
        "\n",
        "# Randomly sample the required number of indices with label 0\n",
        "random_indices_0 = np.random.choice(indices_0, len(indices_1), replace=False)\n",
        "\n",
        "# Combine the indices\n",
        "under_sample_indices = np.concatenate([indices_1, random_indices_0])\n",
        "\n",
        "# Create the undersampled DataFrame\n",
        "under_sampled_df = df.loc[under_sample_indices]\n",
        "\n",
        "# Shuffle the resulting DataFrame for good measure\n",
        "under_sampled_df = under_sampled_df.sample(frac=1).reset_index(drop=True)\n",
        "\n",
        "under_sampled_df[\"CostRelated\"] = under_sampled_df[\"CostRelated\"].astype(int)\n",
        "\n",
        "df=under_sampled_df\n",
        "\n",
        "df[\"Text\"][0]"
      ]
    },
    {
      "cell_type": "code",
      "source": [
        "import re\n",
        "import string\n",
        "import nltk\n",
        "from nltk.corpus import stopwords\n",
        "\n",
        "nltk.download('stopwords')\n",
        "stop = set(stopwords.words(\"english\"))\n",
        "\n",
        "def preprocess_text(text):\n",
        "    text = text.lower()\n",
        "    text = re.sub(r'[^\\w\\s]', '', text)  # Remove punctuation\n",
        "    text = ' '.join([word for word in text.split() if word not in stop])  # Remove stopwords\n",
        "    return text\n",
        "\n",
        "df[\"Text\"] = df.Text.apply(preprocess_text)\n",
        "df[\"Text\"][0]"
      ],
      "metadata": {
        "colab": {
          "base_uri": "https://localhost:8080/",
          "height": 88
        },
        "id": "sIGHBtJjTdp8",
        "outputId": "6d271912-53e7-47bf-9014-06d457c6a3b8"
      },
      "execution_count": null,
      "outputs": [
        {
          "output_type": "stream",
          "name": "stderr",
          "text": [
            "[nltk_data] Downloading package stopwords to /root/nltk_data...\n",
            "[nltk_data]   Package stopwords is already up-to-date!\n"
          ]
        },
        {
          "output_type": "execute_result",
          "data": {
            "text/plain": [
              "'consultant shall ensure proposed personnel duly qualified able design required parts main design competently carry tasks assigned accordance scope contract'"
            ],
            "application/vnd.google.colaboratory.intrinsic+json": {
              "type": "string"
            }
          },
          "metadata": {},
          "execution_count": 6
        }
      ]
    },
    {
      "cell_type": "code",
      "source": [
        "#remove stopwords - not kelimesini atılmadan algoritma başarısını karşılaştır.\n",
        "#pip install ntlk\n",
        "import nltk\n",
        "nltk.download('stopwords')\n",
        "from nltk.corpus import stopwords\n",
        "stop=set(stopwords.words(\"english\"))\n",
        "\n",
        "def remove_stopwords(Text):\n",
        "  filtered_words=[word.lower() for word in Text.split() if word.lower() not in stop]\n",
        "  return \" \".join(filtered_words)\n",
        "\n",
        "df[\"Text\"]=df.Text.map(remove_stopwords) # bu olay çıkarıyor\n",
        "\n",
        "df[\"Text\"][0]"
      ],
      "metadata": {
        "colab": {
          "base_uri": "https://localhost:8080/",
          "height": 88
        },
        "id": "2uqfi1zxUI_y",
        "outputId": "7ccd644f-a5e3-4ae7-eaed-775d4fd933d4"
      },
      "execution_count": null,
      "outputs": [
        {
          "output_type": "stream",
          "name": "stderr",
          "text": [
            "[nltk_data] Downloading package stopwords to /root/nltk_data...\n",
            "[nltk_data]   Package stopwords is already up-to-date!\n"
          ]
        },
        {
          "output_type": "execute_result",
          "data": {
            "text/plain": [
              "'consultant shall ensure proposed personnel duly qualified able design required parts main design competently carry tasks assigned accordance scope contract'"
            ],
            "application/vnd.google.colaboratory.intrinsic+json": {
              "type": "string"
            }
          },
          "metadata": {},
          "execution_count": 9
        }
      ]
    },
    {
      "cell_type": "code",
      "source": [
        "from collections import Counter\n",
        "\n",
        "def counter_word(text_col):\n",
        "  count = Counter()\n",
        "  for text in text_col.values:\n",
        "    for word in text.split():\n",
        "      count[word] += 1\n",
        "  return count\n",
        "\n",
        "counter = counter_word(df.Text)\n",
        "num_unique_words = len(counter)\n",
        "\n",
        "print(num_unique_words)"
      ],
      "metadata": {
        "colab": {
          "base_uri": "https://localhost:8080/"
        },
        "id": "MdtqMS0TUdZ6",
        "outputId": "8d24d619-b12d-4213-8f88-e70f73a07b28"
      },
      "execution_count": null,
      "outputs": [
        {
          "output_type": "stream",
          "name": "stdout",
          "text": [
            "1791\n"
          ]
        }
      ]
    },
    {
      "cell_type": "code",
      "source": [
        "# Split dataset into training and validation set\n",
        "train_df, val_df = train_test_split(df, test_size=0.2, random_state=42)\n",
        "\n",
        "# Split text and labels\n",
        "train_sentences = train_df.Text.to_numpy()\n",
        "train_labels = train_df.CostRelated.to_numpy()\n",
        "val_sentences = val_df.Text.to_numpy()\n",
        "val_labels = val_df.CostRelated.to_numpy()\n",
        "\n",
        "train_sentences[1]"
      ],
      "metadata": {
        "colab": {
          "base_uri": "https://localhost:8080/",
          "height": 53
        },
        "id": "5UazGKP4TgXS",
        "outputId": "57bf225a-71df-4ff3-e397-cc6ae6848b46"
      },
      "execution_count": null,
      "outputs": [
        {
          "output_type": "execute_result",
          "data": {
            "text/plain": [
              "'consultants provide facilities requirements construction supervision maintenance pbm period include support staff office accommodation facilities office equipment supplies furniture logistics vehicles communications tl office respective site offices'"
            ],
            "application/vnd.google.colaboratory.intrinsic+json": {
              "type": "string"
            }
          },
          "metadata": {},
          "execution_count": 35
        }
      ]
    },
    {
      "cell_type": "code",
      "source": [
        "# Bag of Words\n",
        "vectorizer_bow = CountVectorizer()\n",
        "train_bow = vectorizer_bow.fit_transform(train_sentences)\n",
        "val_bow = vectorizer_bow.transform(val_sentences)\n",
        "print(\"First Train Sentence:\", train_sentences[1])\n",
        "print(\"First Train Sentence with BOW:\", train_bow[1])\n",
        "\n",
        "# TF-IDF\n",
        "vectorizer_tfidf = TfidfVectorizer()\n",
        "train_tfidf = vectorizer_tfidf.fit_transform(train_sentences)\n",
        "val_tfidf = vectorizer_tfidf.transform(val_sentences)\n",
        "print(\"First Train Sentence with TF-IDF:\", train_tfidf[1])"
      ],
      "metadata": {
        "id": "vVcKKgMBrfaD"
      },
      "execution_count": null,
      "outputs": []
    },
    {
      "cell_type": "code",
      "source": [
        "# For BoW\n",
        "word_list_bow = vectorizer_bow.get_feature_names_out()\n",
        "\n",
        "# For TF-IDF\n",
        "word_list_tfidf = vectorizer_tfidf.get_feature_names_out()\n",
        "\n",
        "# Example: To get the word at index 348 for BoW\n",
        "print(word_list_bow[348])\n",
        "\n",
        "# Example: To get the word at index 997 for TF-IDF\n",
        "print(word_list_tfidf[997])\n"
      ],
      "metadata": {
        "colab": {
          "base_uri": "https://localhost:8080/"
        },
        "id": "rpj5syY736AM",
        "outputId": "8ce35021-38e2-475e-b95b-de1bd1951312"
      },
      "execution_count": null,
      "outputs": [
        {
          "output_type": "stream",
          "name": "stdout",
          "text": [
            "consultants\n",
            "offices\n"
          ]
        }
      ]
    },
    {
      "cell_type": "code",
      "source": [
        "from sklearn.metrics import precision_score, recall_score, f1_score\n",
        "# Support Vector Machine (SVM) with BoW\n",
        "svm_model_bow = SVC()\n",
        "svm_model_bow.fit(train_bow, train_labels)\n",
        "svm_pred_bow = svm_model_bow.predict(val_bow)\n",
        "svm_accuracy_bow = accuracy_score(val_labels, svm_pred_bow)\n",
        "print(\"SVM with BoW Accuracy:\", svm_accuracy_bow)\n",
        "\n",
        "# For BoW\n",
        "svm_precision_bow = precision_score(val_labels, svm_pred_bow)\n",
        "svm_recall_bow = recall_score(val_labels, svm_pred_bow)\n",
        "svm_f1_bow = f1_score(val_labels, svm_pred_bow)\n",
        "print(\"SVM with BoW Precision:\", svm_precision_bow)\n",
        "print(\"SVM with BoW Recall:\", svm_recall_bow)\n",
        "print(\"SVM with BoW F1-Score:\", svm_f1_bow)\n",
        "\n",
        "# Support Vector Machine (SVM) with TF-IDF\n",
        "svm_model_tfidf = SVC()\n",
        "svm_model_tfidf.fit(train_tfidf, train_labels)\n",
        "svm_pred_tfidf = svm_model_tfidf.predict(val_tfidf)\n",
        "svm_accuracy_tfidf = accuracy_score(val_labels, svm_pred_tfidf)\n",
        "print(\"SVM with TF-IDF Accuracy:\", svm_accuracy_tfidf)\n",
        "\n",
        "# For TF-IDF\n",
        "svm_precision_tfidf = precision_score(val_labels, svm_pred_tfidf)\n",
        "svm_recall_tfidf = recall_score(val_labels, svm_pred_tfidf)\n",
        "svm_f1_tfidf = f1_score(val_labels, svm_pred_tfidf)\n",
        "print(\"SVM with TF-IDF Precision:\", svm_precision_tfidf)\n",
        "print(\"SVM with TF-IDF Recall:\", svm_recall_tfidf)\n",
        "print(\"SVM with TF-IDF F1-Score:\", svm_f1_tfidf)"
      ],
      "metadata": {
        "colab": {
          "base_uri": "https://localhost:8080/"
        },
        "id": "aDEzI-96WKsi",
        "outputId": "56f14ce5-a220-4b29-ca21-42bf4f688b65"
      },
      "execution_count": null,
      "outputs": [
        {
          "output_type": "stream",
          "name": "stdout",
          "text": [
            "SVM with BoW Accuracy: 0.8918918918918919\n",
            "SVM with BoW Precision: 0.9743589743589743\n",
            "SVM with BoW Recall: 0.8444444444444444\n",
            "SVM with BoW F1-Score: 0.9047619047619048\n",
            "SVM with TF-IDF Accuracy: 0.918918918918919\n",
            "SVM with TF-IDF Precision: 0.975609756097561\n",
            "SVM with TF-IDF Recall: 0.8888888888888888\n",
            "SVM with TF-IDF F1-Score: 0.9302325581395349\n"
          ]
        }
      ]
    },
    {
      "cell_type": "code",
      "source": [
        "# Naive Bayes with BoW\n",
        "nb_model_bow = MultinomialNB()\n",
        "nb_model_bow.fit(train_bow, train_labels)\n",
        "nb_pred_bow = nb_model_bow.predict(val_bow)\n",
        "nb_accuracy_bow = accuracy_score(val_labels, nb_pred_bow)\n",
        "print(\"Naive Bayes with BoW Accuracy:\", nb_accuracy_bow)\n",
        "\n",
        "# For BoW\n",
        "nb_precision_bow = precision_score(val_labels, nb_pred_bow)\n",
        "nb_recall_bow = recall_score(val_labels, nb_pred_bow)\n",
        "nb_f1_bow = f1_score(val_labels, nb_pred_bow)\n",
        "print(\"NB with BoW Precision:\", nb_precision_bow)\n",
        "print(\"NB with BoW Recall:\", nb_recall_bow)\n",
        "print(\"NB with BoW F1-Score:\", nb_f1_bow)\n",
        "\n",
        "# Naive Bayes with TF-IDF\n",
        "nb_model_tfidf = MultinomialNB()\n",
        "nb_model_tfidf.fit(train_tfidf, train_labels)\n",
        "nb_pred_tfidf = nb_model_tfidf.predict(val_tfidf)\n",
        "nb_accuracy_tfidf = accuracy_score(val_labels, nb_pred_tfidf)\n",
        "print(\"Naive Bayes with TF-IDF Accuracy:\", nb_accuracy_tfidf)\n",
        "\n",
        "# For TF-IDF\n",
        "nb_precision_tfidf = precision_score(val_labels, nb_pred_tfidf)\n",
        "nb_recall_tfidf = recall_score(val_labels, nb_pred_tfidf)\n",
        "nb_f1_tfidf = f1_score(val_labels, nb_pred_tfidf)\n",
        "print(\"NB with TF-IDF Precision:\", nb_precision_tfidf)\n",
        "print(\"NB with TF-IDF Recall:\", nb_recall_tfidf)\n",
        "print(\"NB with TF-IDF F1-Score:\", nb_f1_tfidf)"
      ],
      "metadata": {
        "colab": {
          "base_uri": "https://localhost:8080/"
        },
        "id": "Bv512UtYsixD",
        "outputId": "b672f121-368b-4abe-f022-25314822a158"
      },
      "execution_count": null,
      "outputs": [
        {
          "output_type": "stream",
          "name": "stdout",
          "text": [
            "Naive Bayes with BoW Accuracy: 0.9324324324324325\n",
            "NB with BoW Precision: 0.9166666666666666\n",
            "NB with BoW Recall: 0.9777777777777777\n",
            "NB with BoW F1-Score: 0.946236559139785\n",
            "Naive Bayes with TF-IDF Accuracy: 0.9594594594594594\n",
            "NB with TF-IDF Precision: 0.9565217391304348\n",
            "NB with TF-IDF Recall: 0.9777777777777777\n",
            "NB with TF-IDF F1-Score: 0.967032967032967\n"
          ]
        }
      ]
    },
    {
      "cell_type": "code",
      "source": [
        "# Logistic Regression with BoW\n",
        "log_model_bow = LogisticRegression()\n",
        "log_model_bow.fit(train_bow, train_labels)\n",
        "log_pred_bow = log_model_bow.predict(val_bow)\n",
        "log_accuracy_bow = accuracy_score(val_labels, log_pred_bow)\n",
        "print(\"Logistic Regression with BoW Accuracy:\", log_accuracy_bow)\n",
        "\n",
        "# For BoW\n",
        "log_precision_bow = precision_score(val_labels, log_pred_bow)\n",
        "log_recall_bow = recall_score(val_labels, log_pred_bow)\n",
        "log_f1_bow = f1_score(val_labels, log_pred_bow)\n",
        "print(\"LR with BoW Precision:\", log_precision_bow)\n",
        "print(\"LR with BoW Recall:\", log_recall_bow)\n",
        "print(\"LR with BoW F1-Score:\", log_f1_bow)\n",
        "\n",
        "# Logistic Regression with TF-IDF\n",
        "log_model_tfidf = LogisticRegression()\n",
        "log_model_tfidf.fit(train_tfidf, train_labels)\n",
        "log_pred_tfidf = log_model_tfidf.predict(val_tfidf)\n",
        "log_accuracy_tfidf = accuracy_score(val_labels, log_pred_tfidf)\n",
        "print(\"Logistic Regression with TF-IDF Accuracy:\", log_accuracy_tfidf)\n",
        "\n",
        "# For TF-IDF\n",
        "log_precision_tfidf = precision_score(val_labels, log_pred_tfidf)\n",
        "log_recall_tfidf = recall_score(val_labels, log_pred_tfidf)\n",
        "log_f1_tfidf = f1_score(val_labels, log_pred_tfidf)\n",
        "print(\"LR with TF-IDF Precision:\", log_precision_tfidf)\n",
        "print(\"LR with TF-IDF Recall:\", log_recall_tfidf)\n",
        "print(\"LR with TF-IDF F1-Score:\", log_f1_tfidf)"
      ],
      "metadata": {
        "colab": {
          "base_uri": "https://localhost:8080/"
        },
        "id": "iMlyjOvGssIj",
        "outputId": "a9822955-ddde-40a2-b77e-5020c86c880e"
      },
      "execution_count": null,
      "outputs": [
        {
          "output_type": "stream",
          "name": "stdout",
          "text": [
            "Logistic Regression with BoW Accuracy: 0.8918918918918919\n",
            "LR with BoW Precision: 0.9512195121951219\n",
            "LR with BoW Recall: 0.8666666666666667\n",
            "LR with BoW F1-Score: 0.9069767441860465\n",
            "Logistic Regression with TF-IDF Accuracy: 0.9054054054054054\n",
            "LR with TF-IDF Precision: 0.975\n",
            "LR with TF-IDF Recall: 0.8666666666666667\n",
            "LR with TF-IDF F1-Score: 0.9176470588235294\n"
          ]
        }
      ]
    },
    {
      "cell_type": "code",
      "source": [
        "# Feedforward Neural Network with BoW\n",
        "mlp_model_bow = MLPClassifier()\n",
        "mlp_model_bow.fit(train_bow, train_labels)\n",
        "mlp_pred_bow = mlp_model_bow.predict(val_bow)\n",
        "mlp_accuracy_bow = accuracy_score(val_labels, mlp_pred_bow)\n",
        "print(\"Feedforward Neural Network with BoW Accuracy:\", mlp_accuracy_bow)\n",
        "\n",
        "# For BoW\n",
        "FFNN_precision_bow = precision_score(val_labels, mlp_pred_bow)\n",
        "FFNN_recall_bow = recall_score(val_labels, mlp_pred_bow)\n",
        "FFNN_f1_bow = f1_score(val_labels, mlp_pred_bow)\n",
        "print(\"FFNN with BoW Precision:\", FFNN_precision_bow)\n",
        "print(\"FFNN with BoW Recall:\", FFNN_recall_bow)\n",
        "print(\"FFNN with BoW F1-Score:\", FFNN_f1_bow)\n",
        "\n",
        "# Feedforward Neural Network with TF-IDF\n",
        "mlp_model_tfidf = MLPClassifier()\n",
        "mlp_model_tfidf.fit(train_tfidf, train_labels)\n",
        "mlp_pred_tfidf = mlp_model_tfidf.predict(val_tfidf)\n",
        "mlp_accuracy_tfidf = accuracy_score(val_labels, mlp_pred_tfidf)\n",
        "print(\"Feedforward Neural Network with TF-IDF Accuracy:\", mlp_accuracy_tfidf)\n",
        "\n",
        "# For TF-IDF\n",
        "FFNN_precision_tfidf = precision_score(val_labels, mlp_pred_tfidf)\n",
        "FFNN_recall_tfidf = recall_score(val_labels, mlp_pred_tfidf)\n",
        "FFNN_f1_tfidf = f1_score(val_labels, mlp_pred_tfidf)\n",
        "print(\"FFNN with TF-IDF Precision:\", FFNN_precision_tfidf)\n",
        "print(\"FFNN with TF-IDF Recall:\", FFNN_recall_tfidf)\n",
        "print(\"FFNN with TF-IDF F1-Score:\", FFNN_f1_tfidf)"
      ],
      "metadata": {
        "colab": {
          "base_uri": "https://localhost:8080/"
        },
        "id": "4wQh2IMCsvpj",
        "outputId": "d1605ea9-7882-468b-e167-91d02b98618c"
      },
      "execution_count": null,
      "outputs": [
        {
          "output_type": "stream",
          "name": "stdout",
          "text": [
            "Feedforward Neural Network with BoW Accuracy: 0.918918918918919\n",
            "FFNN with BoW Precision: 0.9333333333333333\n",
            "FFNN with BoW Recall: 0.9333333333333333\n",
            "FFNN with BoW F1-Score: 0.9333333333333333\n",
            "Feedforward Neural Network with TF-IDF Accuracy: 0.918918918918919\n",
            "FFNN with TF-IDF Precision: 0.9333333333333333\n",
            "FFNN with TF-IDF Recall: 0.9333333333333333\n",
            "FFNN with TF-IDF F1-Score: 0.9333333333333333\n"
          ]
        }
      ]
    },
    {
      "cell_type": "code",
      "source": [
        "import matplotlib.pyplot as plt\n",
        "\n",
        "# Data\n",
        "labels = ['SVM', 'Naive Bayes', 'Logistic Regression', 'Feedforward NN']\n",
        "bow_accuracies = [svm_accuracy_bow, nb_accuracy_bow, log_accuracy_bow, mlp_accuracy_bow]\n",
        "tfidf_accuracies = [svm_accuracy_tfidf, nb_accuracy_tfidf, log_accuracy_tfidf, mlp_accuracy_tfidf]\n",
        "\n",
        "x = np.arange(len(labels))  # the label locations\n",
        "width = 0.35  # the width of the bars\n",
        "\n",
        "# Plot\n",
        "fig, ax = plt.subplots()\n",
        "\n",
        "rects1 = ax.bar(x - width/2, bow_accuracies, width, label='BoW')\n",
        "rects2 = ax.bar(x + width/2, tfidf_accuracies, width, label='TF-IDF')\n",
        "\n",
        "# Add some text for labels, title and custom x-axis tick labels, etc.\n",
        "ax.set_ylabel('Accuracy')\n",
        "ax.set_title('Accuracy of different ML algorithms using BoW and TF-IDF')\n",
        "ax.set_xticks(x)\n",
        "ax.set_xticklabels(labels)\n",
        "ax.legend()\n",
        "\n",
        "fig.tight_layout()\n",
        "\n",
        "plt.show()\n"
      ],
      "metadata": {
        "colab": {
          "base_uri": "https://localhost:8080/",
          "height": 487
        },
        "id": "g1PH2u9-s8a6",
        "outputId": "d3782aef-106e-452e-a43c-dae421276014"
      },
      "execution_count": null,
      "outputs": [
        {
          "output_type": "display_data",
          "data": {
            "text/plain": [
              "<Figure size 640x480 with 1 Axes>"
            ],
            "image/png": "[encoded data removed]"
          },
          "metadata": {}
        }
      ]
    }
  ]
}